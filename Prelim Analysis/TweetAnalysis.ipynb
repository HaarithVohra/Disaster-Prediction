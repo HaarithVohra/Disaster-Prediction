{
 "cells": [
  {
   "cell_type": "code",
   "execution_count": 88,
   "metadata": {},
   "outputs": [],
   "source": [
    "import numpy as np\n",
    "import matplotlib.pyplot as plt\n",
    "import pandas as pd\n",
    "from statistics import mean"
   ]
  },
  {
   "cell_type": "code",
   "execution_count": 89,
   "metadata": {},
   "outputs": [],
   "source": [
    "data = pd.read_csv(\"/Users/haarithvohra/Downloads/Disaster Prediction/disaster_prediction.csv\",sep=\",\", encoding=\"utf-8\")"
   ]
  },
  {
   "cell_type": "code",
   "execution_count": 90,
   "metadata": {},
   "outputs": [],
   "source": [
    "# removing columns we don't need\n",
    "data.drop(\"choose_one:confidence\", axis=1, inplace=True)\n",
    "data.drop(\"choose_one_gold\", axis=1, inplace=True)\n",
    "data.drop_duplicates(subset=\"text\", keep=False, inplace=True)\n",
    "data.reset_index(inplace=True, drop=True)"
   ]
  },
  {
   "cell_type": "code",
   "execution_count": 91,
   "metadata": {},
   "outputs": [
    {
     "data": {
      "text/html": [
       "<div>\n",
       "<style scoped>\n",
       "    .dataframe tbody tr th:only-of-type {\n",
       "        vertical-align: middle;\n",
       "    }\n",
       "\n",
       "    .dataframe tbody tr th {\n",
       "        vertical-align: top;\n",
       "    }\n",
       "\n",
       "    .dataframe thead th {\n",
       "        text-align: right;\n",
       "    }\n",
       "</style>\n",
       "<table border=\"1\" class=\"dataframe\">\n",
       "  <thead>\n",
       "    <tr style=\"text-align: right;\">\n",
       "      <th></th>\n",
       "      <th>choose_one</th>\n",
       "      <th>text</th>\n",
       "    </tr>\n",
       "  </thead>\n",
       "  <tbody>\n",
       "    <tr>\n",
       "      <th>0</th>\n",
       "      <td>Relevant</td>\n",
       "      <td>Just happened a terrible car crash</td>\n",
       "    </tr>\n",
       "    <tr>\n",
       "      <th>1</th>\n",
       "      <td>Relevant</td>\n",
       "      <td>Our Deeds are the Reason of this #earthquake M...</td>\n",
       "    </tr>\n",
       "    <tr>\n",
       "      <th>2</th>\n",
       "      <td>Relevant</td>\n",
       "      <td>Heard about #earthquake is different cities, s...</td>\n",
       "    </tr>\n",
       "    <tr>\n",
       "      <th>3</th>\n",
       "      <td>Relevant</td>\n",
       "      <td>there is a forest fire at spot pond, geese are...</td>\n",
       "    </tr>\n",
       "    <tr>\n",
       "      <th>4</th>\n",
       "      <td>Relevant</td>\n",
       "      <td>Forest fire near La Ronge Sask. Canada</td>\n",
       "    </tr>\n",
       "    <tr>\n",
       "      <th>5</th>\n",
       "      <td>Relevant</td>\n",
       "      <td>All residents asked to 'shelter in place' are ...</td>\n",
       "    </tr>\n",
       "    <tr>\n",
       "      <th>6</th>\n",
       "      <td>Relevant</td>\n",
       "      <td>13,000 people receive #wildfires evacuation or...</td>\n",
       "    </tr>\n",
       "    <tr>\n",
       "      <th>7</th>\n",
       "      <td>Relevant</td>\n",
       "      <td>Just got sent this photo from Ruby #Alaska as ...</td>\n",
       "    </tr>\n",
       "    <tr>\n",
       "      <th>8</th>\n",
       "      <td>Relevant</td>\n",
       "      <td>#RockyFire Update =&gt; California Hwy. 20 closed...</td>\n",
       "    </tr>\n",
       "    <tr>\n",
       "      <th>9</th>\n",
       "      <td>Relevant</td>\n",
       "      <td>Apocalypse lighting. #Spokane #wildfires</td>\n",
       "    </tr>\n",
       "  </tbody>\n",
       "</table>\n",
       "</div>"
      ],
      "text/plain": [
       "  choose_one                                               text\n",
       "0   Relevant                 Just happened a terrible car crash\n",
       "1   Relevant  Our Deeds are the Reason of this #earthquake M...\n",
       "2   Relevant  Heard about #earthquake is different cities, s...\n",
       "3   Relevant  there is a forest fire at spot pond, geese are...\n",
       "4   Relevant             Forest fire near La Ronge Sask. Canada\n",
       "5   Relevant  All residents asked to 'shelter in place' are ...\n",
       "6   Relevant  13,000 people receive #wildfires evacuation or...\n",
       "7   Relevant  Just got sent this photo from Ruby #Alaska as ...\n",
       "8   Relevant  #RockyFire Update => California Hwy. 20 closed...\n",
       "9   Relevant           Apocalypse lighting. #Spokane #wildfires"
      ]
     },
     "execution_count": 91,
     "metadata": {},
     "output_type": "execute_result"
    }
   ],
   "source": [
    "data.head(10)"
   ]
  },
  {
   "cell_type": "code",
   "execution_count": 92,
   "metadata": {},
   "outputs": [
    {
     "data": {
      "text/plain": [
       "choose_one    14\n",
       "text          14\n",
       "dtype: int64"
      ]
     },
     "execution_count": 92,
     "metadata": {},
     "output_type": "execute_result"
    }
   ],
   "source": [
    "data[data.choose_one == \"Can't Decide\"].count()"
   ]
  },
  {
   "cell_type": "code",
   "execution_count": 93,
   "metadata": {},
   "outputs": [
    {
     "data": {
      "text/plain": [
       "choose_one    4456\n",
       "text          4456\n",
       "dtype: int64"
      ]
     },
     "execution_count": 93,
     "metadata": {},
     "output_type": "execute_result"
    }
   ],
   "source": [
    "data[data.choose_one == \"Relevant\"].count()"
   ]
  },
  {
   "cell_type": "code",
   "execution_count": 94,
   "metadata": {},
   "outputs": [
    {
     "data": {
      "text/plain": [
       "choose_one    6084\n",
       "text          6084\n",
       "dtype: int64"
      ]
     },
     "execution_count": 94,
     "metadata": {},
     "output_type": "execute_result"
    }
   ],
   "source": [
    "data[data.choose_one == \"Not Relevant\"].count()\n"
   ]
  },
  {
   "cell_type": "code",
   "execution_count": 95,
   "metadata": {},
   "outputs": [],
   "source": [
    "# This seems a little imbalanced, in favor towards Non Relevant disaster tweets. So we may consider taking out some"
   ]
  },
  {
   "cell_type": "code",
   "execution_count": 96,
   "metadata": {},
   "outputs": [
    {
     "data": {
      "text/plain": [
       "10554"
      ]
     },
     "execution_count": 96,
     "metadata": {},
     "output_type": "execute_result"
    }
   ],
   "source": [
    "data.choose_one.count()"
   ]
  },
  {
   "cell_type": "code",
   "execution_count": 97,
   "metadata": {},
   "outputs": [
    {
     "name": "stdout",
     "output_type": "stream",
     "text": [
      "101.14288421451582\n"
     ]
    }
   ],
   "source": [
    "# Average length of tweets \n",
    "AvgTwtLen = data[\"text\"].str.len().mean()\n",
    "print(AvgTwtLen)"
   ]
  },
  {
   "cell_type": "code",
   "execution_count": 98,
   "metadata": {},
   "outputs": [
    {
     "name": "stdout",
     "output_type": "stream",
     "text": [
      "108.14407540394973\n"
     ]
    }
   ],
   "source": [
    "dataRelevant = [data.text[i] for i in range(len(data)) if data.choose_one[i] == \"Relevant\"]\n",
    "dataRelevant\n",
    "len(dataRelevant[0])\n",
    "lengthTweetsRel = [len(tweet) for tweet in dataRelevant]\n",
    "RelAvgTwtLen = mean(lengthTweetsRel)\n",
    "print(RelAvgTwtLen)"
   ]
  },
  {
   "cell_type": "code",
   "execution_count": 99,
   "metadata": {},
   "outputs": [
    {
     "name": "stdout",
     "output_type": "stream",
     "text": [
      "96.09155161078237\n"
     ]
    }
   ],
   "source": [
    "dataNotRelevant = [data.text[i] for i in range(len(data)) if data.choose_one[i] == \"Not Relevant\"]\n",
    "dataNotRelevant\n",
    "len(dataNotRelevant[0])\n",
    "lengthTweetsNonRel = [len(tweet) for tweet in dataNotRelevant]\n",
    "NonRelAvgTwtLen = mean(lengthTweetsNonRel)\n",
    "print(NonRelAvgTwtLen)"
   ]
  },
  {
   "cell_type": "code",
   "execution_count": 123,
   "metadata": {},
   "outputs": [
    {
     "data": {
      "image/png": "[encoded data removed]",
      "text/plain": [
       "<Figure size 432x288 with 1 Axes>"
      ]
     },
     "metadata": {
      "needs_background": "light"
     },
     "output_type": "display_data"
    }
   ],
   "source": [
    "# Average number of tweets (Total, Relevant, Not Relevant)\n",
    "label = ['Total', 'Relevant', 'Not Relevant']\n",
    "values = [AvgTwtLen, RelAvgTwtLen, NonRelAvgTwtLen]\n",
    "\n",
    "def plot_bar():\n",
    "    # this is for plotting purpose\n",
    "    index = np.arange(len(label))\n",
    "    plt.bar(index, values)\n",
    "    plt.xlabel('Class', fontsize=7)\n",
    "    plt.ylabel('Avg length of Tweets', fontsize=10)\n",
    "    plt.xticks(index, label, fontsize=10, rotation=30)\n",
    "    plt.title('Average Length of Tweets for Each Class')\n",
    "    plt.show()\n",
    "plot_bar()"
   ]
  },
  {
   "cell_type": "code",
   "execution_count": 109,
   "metadata": {},
   "outputs": [
    {
     "name": "stdout",
     "output_type": "stream",
     "text": [
      "3979\n",
      "4693\n",
      "6618\n"
     ]
    }
   ],
   "source": [
    "# counting number of @s\n",
    "countAt = 0\n",
    "for i in range(len(data)):\n",
    "    countAt += data.text[i].count('@')\n",
    "print(countAt)\n",
    "\n",
    "# counting number of #s\n",
    "countHashtag = 0\n",
    "for i in range(len(data)):\n",
    "    countHashtag += data.text[i].count('#')\n",
    "print(countHashtag)\n",
    "\n",
    "countHttp = 0\n",
    "for i in range(len(data)):\n",
    "    tweet = data.text[i]\n",
    "    for word in tweet.split():\n",
    "        if word[:4] == 'http':\n",
    "            countHttp += 1\n",
    "print(countHttp)"
   ]
  },
  {
   "cell_type": "code",
   "execution_count": 51,
   "metadata": {},
   "outputs": [],
   "source": [
    "# countRT = 0\n",
    "# for i in range(len(data)):\n",
    "#     tweet = data.text[i]\n",
    "#     for word in tweet.split():\n",
    "#         if word[:2] == 'RT':\n",
    "#             countRT += 1\n",
    "# countRT"
   ]
  },
  {
   "cell_type": "code",
   "execution_count": 121,
   "metadata": {},
   "outputs": [
    {
     "name": "stdout",
     "output_type": "stream",
     "text": [
      "1258\n",
      "2344\n",
      "3493\n"
     ]
    }
   ],
   "source": [
    "# counting number of @s\n",
    "countAtRel = 0\n",
    "for i in range(len(dataRelevant)):\n",
    "    countAtRel += dataRelevant[i].count('@')\n",
    "print(countAtRel)\n",
    "\n",
    "# counting number of #s\n",
    "countHashtagRel = 0\n",
    "for i in range(len(dataRelevant)):\n",
    "    countHashtagRel += dataRelevant[i].count('#')\n",
    "print(countHashtagRel)\n",
    "\n",
    "countHttpRel = 0\n",
    "for i in range(len(dataRelevant)):\n",
    "    tweet = dataRelevant[i]\n",
    "    for word in tweet.split():\n",
    "        if word[:4] == 'http':\n",
    "            countHttpRel += 1\n",
    "print(countHttpRel)"
   ]
  },
  {
   "cell_type": "code",
   "execution_count": 119,
   "metadata": {},
   "outputs": [
    {
     "name": "stdout",
     "output_type": "stream",
     "text": [
      "2718\n",
      "2344\n",
      "3119\n"
     ]
    }
   ],
   "source": [
    "# counting number of @s\n",
    "countAtNotRel = 0\n",
    "for i in range(len(dataNotRelevant)):\n",
    "    countAtNotRel += dataNotRelevant[i].count('@')\n",
    "print(countAtNotRel)\n",
    "\n",
    "# counting number of #s\n",
    "countHashtagNotRel = 0\n",
    "for i in range(len(dataNotRelevant)):\n",
    "    countHashtagNotRel += dataNotRelevant[i].count('#')\n",
    "print(countHashtagNotRel)\n",
    "\n",
    "countHttpNotRel = 0\n",
    "for i in range(len(dataNotRelevant)):\n",
    "    tweet = dataNotRelevant[i]\n",
    "    for word in tweet.split():\n",
    "        if word[:4] == 'http':\n",
    "            countHttpNotRel += 1\n",
    "print(countHttpNotRel)"
   ]
  },
  {
   "cell_type": "code",
   "execution_count": 117,
   "metadata": {},
   "outputs": [
    {
     "data": {
      "image/png": "[encoded data removed]",
      "text/plain": [
       "<Figure size 432x288 with 1 Axes>"
      ]
     },
     "metadata": {
      "needs_background": "light"
     },
     "output_type": "display_data"
    }
   ],
   "source": [
    "# Some preliminary analysis for Total Dataset\n",
    "label = ['@ Symbol', 'Hashtag', 'URLs']\n",
    "values = [countAt, countHashtag, countHttp]\n",
    "\n",
    "def plot_bar():\n",
    "    # this is for plotting purpose\n",
    "    index = np.arange(len(label))\n",
    "    plt.bar(index, values)\n",
    "#     plt.xlabel('Unorthodox Characters', fontsize=10)\n",
    "#     plt.ylabel('Number of Mentions', fontsize=10)\n",
    "    plt.xticks(index, label, fontsize=10, rotation=30)\n",
    "    plt.title('Unorthodox Characters')\n",
    "    plt.show()\n",
    "plot_bar()"
   ]
  },
  {
   "cell_type": "code",
   "execution_count": 122,
   "metadata": {},
   "outputs": [
    {
     "data": {
      "image/png": "[encoded data removed]",
      "text/plain": [
       "<Figure size 432x288 with 1 Axes>"
      ]
     },
     "metadata": {
      "needs_background": "light"
     },
     "output_type": "display_data"
    }
   ],
   "source": [
    "# Some preliminary analysis Not Relevant\n",
    "label = ['@ Symbol', 'Hashtag', 'URLs']\n",
    "values = [countAtRel, countHashtagRel, countHttpRel]\n",
    "\n",
    "def plot_bar():\n",
    "    # this is for plotting purpose\n",
    "    index = np.arange(len(label))\n",
    "    plt.bar(index, values)\n",
    "#     plt.xlabel('Unorthodox Characters', fontsize=10)\n",
    "#     plt.ylabel('Number of Mentions', fontsize=10)\n",
    "    plt.xticks(index, label, fontsize=10, rotation=30)\n",
    "    plt.title('Unorthodox Characters (Relevant)')\n",
    "    plt.show()\n",
    "plot_bar()"
   ]
  },
  {
   "cell_type": "code",
   "execution_count": 120,
   "metadata": {},
   "outputs": [
    {
     "data": {
      "image/png": "[encoded data removed]",
      "text/plain": [
       "<Figure size 432x288 with 1 Axes>"
      ]
     },
     "metadata": {
      "needs_background": "light"
     },
     "output_type": "display_data"
    }
   ],
   "source": [
    "# Some preliminary analysis Not Relevant\n",
    "label = ['@ Symbol', 'Hashtag', 'URLs']\n",
    "values = [countAtNotRel, countHashtagNotRel, countHttpNotRel]\n",
    "\n",
    "def plot_bar():\n",
    "    # this is for plotting purpose\n",
    "    index = np.arange(len(label))\n",
    "    plt.bar(index, values)\n",
    "#     plt.xlabel('Unorthodox Characters', fontsize=10)\n",
    "#     plt.ylabel('Number of Mentions', fontsize=10)\n",
    "    plt.xticks(index, label, fontsize=10, rotation=30)\n",
    "    plt.title('Unorthodox Characters (Not Relevant)')\n",
    "    plt.show()\n",
    "plot_bar()"
   ]
  },
  {
   "cell_type": "code",
   "execution_count": null,
   "metadata": {},
   "outputs": [],
   "source": []
  }
 ],
 "metadata": {
  "kernelspec": {
   "display_name": "Python 3",
   "language": "python",
   "name": "python3"
  },
  "language_info": {
   "codemirror_mode": {
    "name": "ipython",
    "version": 3
   },
   "file_extension": ".py",
   "mimetype": "text/x-python",
   "name": "python",
   "nbconvert_exporter": "python",
   "pygments_lexer": "ipython3",
   "version": "3.6.8"
  }
 },
 "nbformat": 4,
 "nbformat_minor": 2
}
